{
 "cells": [
  {
   "cell_type": "code",
   "execution_count": 1,
   "metadata": {
    "colab": {
     "base_uri": "https://localhost:8080/",
     "height": 35
    },
    "executionInfo": {
     "elapsed": 511,
     "status": "ok",
     "timestamp": 1686700579014,
     "user": {
      "displayName": "Heloïse Kverndal",
      "userId": "04419520878524951419"
     },
     "user_tz": -60
    },
    "id": "63Tz7_eIReGt",
    "outputId": "804741b1-5030-44db-8dc7-acc4b5d2648c"
   },
   "outputs": [
    {
     "output_type": "execute_result",
     "data": {
      "text/plain": [
       "'/content'"
      ],
      "application/vnd.google.colaboratory.intrinsic+json": {
       "type": "string"
      }
     },
     "metadata": {},
     "execution_count": 1
    }
   ],
   "source": [
    "import os\n",
    "os.getcwd()"
   ]
  },
  {
   "cell_type": "code",
   "execution_count": 3,
   "metadata": {
    "id": "Km03fUzXQSK9",
    "executionInfo": {
     "status": "ok",
     "timestamp": 1686700597676,
     "user_tz": -60,
     "elapsed": 339,
     "user": {
      "displayName": "Heloïse Kverndal",
      "userId": "04419520878524951419"
     }
    }
   },
   "outputs": [],
   "source": [
    "import json\n",
    "import pandas as pd\n",
    "from tqdm import tqdm\n",
    "from bisection_algorithm import BisectionAnnotator"
   ]
  },
  {
   "cell_type": "code",
   "execution_count": 5,
   "metadata": {
    "id": "hBJKCjK6j_j7",
    "executionInfo": {
     "status": "ok",
     "timestamp": 1686700601042,
     "user_tz": -60,
     "elapsed": 10,
     "user": {
      "displayName": "Heloïse Kverndal",
      "userId": "04419520878524951419"
     }
    }
   },
   "outputs": [],
   "source": [
    "tqdm.pandas()"
   ]
  },
  {
   "cell_type": "code",
   "execution_count": 7,
   "metadata": {
    "id": "Z3Ov-YC6SDbv",
    "executionInfo": {
     "status": "ok",
     "timestamp": 1686700602749,
     "user_tz": -60,
     "elapsed": 217,
     "user": {
      "displayName": "Heloïse Kverndal",
      "userId": "04419520878524951419"
     }
    }
   },
   "outputs": [],
   "source": [
    "CLAIMS = {\n",
    "    \n",
    "    \"1_1\": \"Joe Biden is sold out to China\",\n",
    "    \"1_2\": \"Biden does business in China\",\n",
    "    \"1_3\": \"China blackmails Biden\",\n",
    "    \"1_4\": \"Biden works for China\",\n",
    "    \"1_5\": \"The CCP controls Biden\",\n",
    "    \"1_6\": \"Biden’s policies hurt the United States\",\n",
    "    \n",
    "    #########\n",
    "\n",
    "    \"2_1\": \"Donald Trump is sold out to China\",\n",
    "    \"2_2\": \"Trump does business in China\",\n",
    "    \"2_3\": \"China blackmails Trump\",\n",
    "    \"2_4\": \"Trump works for China\",\n",
    "    \"2_5\": \"The CCP controls Trump\",\n",
    "    \"2_6\": \"Trump’s policies hurt the United States\",\n",
    "\n",
    "}"
   ]
  },
  {
   "cell_type": "code",
   "execution_count": 8,
   "metadata": {
    "id": "UT6blR1w3OG3",
    "executionInfo": {
     "status": "ok",
     "timestamp": 1686700602750,
     "user_tz": -60,
     "elapsed": 7,
     "user": {
      "displayName": "Heloïse Kverndal",
      "userId": "04419520878524951419"
     }
    }
   },
   "outputs": [],
   "source": [
    "ANNOTATOR = \"ADD_ANNOTATOR\"\n",
    "PATH = \"../data/threshold_tuning_annotations/\" + ANNOTATOR"
   ]
  },
  {
   "cell_type": "markdown",
   "metadata": {
    "id": "iXgn5FNAxJ5_"
   },
   "source": [
    "## Threshold tuning"
   ]
  },
  {
   "cell_type": "code",
   "execution_count": 9,
   "metadata": {
    "id": "UaT6AXQhUYEx",
    "executionInfo": {
     "status": "ok",
     "timestamp": 1686700655320,
     "user_tz": -60,
     "elapsed": 52576,
     "user": {
      "displayName": "Heloïse Kverndal",
      "userId": "04419520878524951419"
     }
    }
   },
   "outputs": [],
   "source": [
    "# Loading data from CSV file and\n",
    "df = pd.read_csv('../data/df_annot_2023-06-01.csv', low_memory=False, lineterminator='\\n')\n",
    "df['ZSL'] = df['ZSL'].progress_apply(eval)"
   ]
  },
  {
   "cell_type": "code",
   "execution_count": 10,
   "metadata": {
    "colab": {
     "base_uri": "https://localhost:8080/"
    },
    "id": "SrTzZj8mbfYi",
    "outputId": "56aa0f41-0711-499d-a6d8-3925ca8be68d",
    "executionInfo": {
     "status": "ok",
     "timestamp": 1686700766193,
     "user_tz": -60,
     "elapsed": 110911,
     "user": {
      "displayName": "Heloïse Kverndal",
      "userId": "04419520878524951419"
     }
    }
   },
   "outputs": [
    {
     "output_type": "stream",
     "name": "stderr",
     "text": [
      "100%|██████████| 1135285/1135285 [01:49<00:00, 10382.51it/s]\n"
     ]
    }
   ],
   "source": "cached_files = os.listdir(PATH)"
  },
  {
   "metadata": {},
   "cell_type": "code",
   "outputs": [],
   "execution_count": null,
   "source": [
    "def get_annotations_from_record():\n",
    "    if text in texts"
   ]
  },
  {
   "cell_type": "code",
   "execution_count": 13,
   "metadata": {
    "id": "AkZ1lYZv22GS",
    "colab": {
     "base_uri": "https://localhost:8080/",
     "height": 758
    },
    "executionInfo": {
     "status": "ok",
     "timestamp": 1686702562546,
     "user_tz": -60,
     "elapsed": 626148,
     "user": {
      "displayName": "Heloïse Kverndal",
      "userId": "04419520878524951419"
     }
    },
    "outputId": "6aad8185-b3a1-415a-b7c1-914487d24e70"
   },
   "outputs": [
    {
     "output_type": "stream",
     "name": "stdout",
     "text": [
      "===============================\n",
      "\n",
      "ANNOT NB: 54\n",
      "MEDIAN: 0.950\n",
      "\n",
      "INTERVAL: 0.870 - 0.990 \t==> WIDTH: 0.120\n",
      "TOTAL = 1.0000000000000002\n",
      "LEFT MASS = 0.300 \tRIGHT MASS = 0.700 \tTOTAL = 1.000\n",
      "\n"
     ]
    },
    {
     "output_type": "display_data",
     "data": {
      "text/plain": [
       "<Figure size 640x480 with 1 Axes>"
      ],
      "image/png": "[encoded data removed]"
     },
     "metadata": {}
    },
    {
     "output_type": "stream",
     "name": "stdout",
     "text": [
      "NEED TO STOP ANNOTATING! Data is too sparse\n",
      "\n",
      "\n",
      "*********************************\n",
      "***  THRESHOLD FOUND: 0.950   ***\n",
      "*********************************\n",
      "\n"
     ]
    }
   ],
   "source": [
    "for claim_idx in CLAIMS:\n",
    "\n",
    "    trait_class = claim_idx.split('_')[0]\n",
    "    trait_text = CLAIMS[claim_idx]\n",
    "    class_text = CLAIMS[trait_class + '_0']\n",
    "      \n",
    "    df_sub = df[~df['in_eval'].apply(lambda x: claim_idx in x)]\n",
    "    df_sub = df_sub[~df_sub['in_training'].apply(lambda x: claim_idx in x)]\n",
    "    annotator = BisectionAnnotator(df_sub, step=0.01, early_termination_width=0.05, level='sub-claim')\n",
    "\n",
    "    if claim_idx + '_record.json'in cached_files:\n",
    "        with open(os.path.join(PATH, claim_idx + '_record.json')) as file:\n",
    "            record = json.load(file)\n",
    "        df_sub[claim_idx + '_annot'] = df_sub.apply()\n",
    "        if not record['continue']:\n",
    "            continue\n",
    "        print('You partially annotated trait ' + claim_idx + ' (\"' + CLAIMS[claim_idx] + '\"). Would you like to continue annotating this trait (\"c\" + ENTER) or move on to the next trait (ENTER)?' )\n",
    "        answer = input()\n",
    "        if answer != 'c':\n",
    "            continue\n",
    "\n",
    "    _, out_dict, early_stop = annotator(claim_idx, trait_text, trait_class, class_text, column='ZSL')\n",
    "\n",
    "    with open(os.path.join(PATH, claim_idx + '_record.json'), 'w') as file:\n",
    "        json.dump(out_dict, file)\n",
    "\n",
    "    if early_stop:\n",
    "        break"
   ]
  },
  {
   "metadata": {},
   "cell_type": "code",
   "outputs": [],
   "execution_count": null,
   "source": ""
  }
 ],
 "metadata": {
  "colab": {
   "provenance": []
  },
  "gpuClass": "standard",
  "kernelspec": {
   "display_name": "Python 3",
   "name": "python3"
  },
  "language_info": {
   "name": "python"
  }
 },
 "nbformat": 4,
 "nbformat_minor": 0
}
